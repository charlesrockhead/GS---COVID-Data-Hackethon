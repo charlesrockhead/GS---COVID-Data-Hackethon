{
  "nbformat": 4,
  "nbformat_minor": 0,
  "metadata": {
    "kernelspec": {
      "display_name": "Python 3",
      "language": "python",
      "name": "python3"
    },
    "language_info": {
      "codemirror_mode": {
        "name": "ipython",
        "version": 3
      },
      "file_extension": ".py",
      "mimetype": "text/x-python",
      "name": "python",
      "nbconvert_exporter": "python",
      "pygments_lexer": "ipython3",
      "version": "3.7.2"
    },
    "pycharm": {
      "stem_cell": {
        "cell_type": "raw",
        "metadata": {
          "collapsed": false
        },
        "source": []
      }
    },
    "colab": {
      "name": "Comparing, Reconciling, and CombiningCOVID-19DataSources.ipynb",
      "provenance": []
    }
  },
  "cells": [
    {
      "cell_type": "markdown",
      "metadata": {
        "id": "xfezdLJf7wJF",
        "colab_type": "text"
      },
      "source": [
        "## Comparing, Reconciling, and Combining COVID-19 Data Sources"
      ]
    },
    {
      "cell_type": "markdown",
      "metadata": {
        "id": "GqFsu5Eu7wJG",
        "colab_type": "text"
      },
      "source": [
        "### Summary\n",
        "\n",
        "In this note we use `gs-quant` to compare COVID-19 data sources. To do this, we first retrieve COVID-19-related time \n",
        "series data and preprocess it, joining different sources together to analyze confirmed cases. \n",
        "\n",
        "The contents of this notebook are as follows:\n",
        "\n",
        "- [1 - Getting Started](#1---Getting-Started)\n",
        "- [2 - COVID-19 Data](#2---COVID-19-Data)\n",
        "- [3 - Comparing Global Sources](#3---Comparing-Global-Sources)\n",
        "- [4 - Comparing US Sources](#4---Comparing-US-Sources)\n",
        "- [5 - Comparing subregions, combining with mobility data](#5---Comparing-subregions,-combining-with-mobility-data)"
      ]
    },
    {
      "cell_type": "markdown",
      "metadata": {
        "id": "htaXIzZM7wJH",
        "colab_type": "text"
      },
      "source": [
        "### 1 - Getting Started"
      ]
    },
    {
      "cell_type": "markdown",
      "metadata": {
        "id": "WthEpsiB7wJH",
        "colab_type": "text"
      },
      "source": [
        "Start every session with authenticating with your unique client id and secret. For information on\n",
        "how to get setup on GS Quant, see [Getting Started](/covid/guides/getting-started). Below produced\n",
        "using gs-quant version 0.8.126"
      ]
    },
    {
      "cell_type": "code",
      "metadata": {
        "pycharm": {
          "is_executing": false
        },
        "id": "dDg8LMXQ7wJI",
        "colab_type": "code",
        "colab": {}
      },
      "source": [
        "\n",
        "from gs_quant.session import GsSession, Environment\n",
        "\n",
        "GsSession.use(client_id= '01bd1e5bdb1247d29dbe0c0db29b800b', client_secret='3d53384141b6a4d9b3e897d8d1df1732bf49af5faeeb13b024dc9227538bf588', scopes=('read_product_data',))\n",
        "\n",
        "\n"
      ],
      "execution_count": 38,
      "outputs": []
    },
    {
      "cell_type": "markdown",
      "metadata": {
        "id": "LKVpshVd7wJN",
        "colab_type": "text"
      },
      "source": [
        "### 2 - COVID-19 Data"
      ]
    },
    {
      "cell_type": "markdown",
      "metadata": {
        "id": "wgTMnfBn7wJO",
        "colab_type": "text"
      },
      "source": [
        "We'll start by defining a general function to load various datasets, which includes regional data,\n",
        "since December 31 2019:"
      ]
    },
    {
      "cell_type": "code",
      "metadata": {
        "pycharm": {
          "is_executing": false
        },
        "id": "F6h0aN1F7wJP",
        "colab_type": "code",
        "colab": {}
      },
      "source": [
        "from gs_quant.data import Dataset\n",
        "import datetime\n",
        "\n",
        "def get_datasets(datasets):\n",
        "    ds_dict = {}\n",
        "    for dataset in datasets:\n",
        "        try:\n",
        "            df = Dataset(dataset).get_data(datetime.date(2019, 6, 23), datetime.datetime.today().date())\n",
        "            \n",
        "            keys = [x for x in ['countryId', 'subdivisionId'] if x in df.columns] + ['date']\n",
        "            val_map = {'newConfirmed': 'totalConfirmed', 'newFatalities': 'totalFatalities'}\n",
        "            vals = [x for x in list(val_map.keys()) if x in df.columns]\n",
        "\n",
        "            df_t = df.groupby(keys).sum().groupby(level=0).cumsum().reset_index()[keys + vals].rename(columns=val_map)\n",
        "            ds_dict[dataset] = df.reset_index().merge(df_t, on=keys, suffixes=('', '_y')).set_index('date')\n",
        "\n",
        "        except Exception as err:\n",
        "            print(f'Failed to obtain {dataset} with {getattr(err,\"message\",repr(err))}')\n",
        "    return ds_dict"
      ],
      "execution_count": 145,
      "outputs": []
    },
    {
      "cell_type": "markdown",
      "metadata": {
        "id": "6pYCNT3M7wJS",
        "colab_type": "text"
      },
      "source": [
        "We create a list of some of the available datasets, and fetch all of them, so that we can compare them."
      ]
    },
    {
      "cell_type": "code",
      "metadata": {
        "pycharm": {
          "is_executing": false
        },
        "id": "nPuOcm0u7wJS",
        "colab_type": "code",
        "colab": {}
      },
      "source": [
        "country_datasets = ['COVID19_US_DAILY_CDC']\n",
        "df = get_datasets(country_datasets)"
      ],
      "execution_count": 146,
      "outputs": []
    },
    {
      "cell_type": "markdown",
      "metadata": {
        "id": "1eoaxYnU7wJV",
        "colab_type": "text"
      },
      "source": [
        "Next we look at the date ranges of each dataset to determine how much history they have, and ensure they are \n",
        "up-to-date:"
      ]
    },
    {
      "cell_type": "code",
      "metadata": {
        "pycharm": {
          "is_executing": false,
          "name": "#%%\n"
        },
        "id": "HjvggU6W7wJV",
        "colab_type": "code",
        "colab": {
          "base_uri": "https://localhost:8080/",
          "height": 34
        },
        "outputId": "a3c5af20-cfd0-4091-ccb7-a2d9bc166f07"
      },
      "source": [
        "for name, ds in df.items():\n",
        "    print('{:<30}  {}  {}'.format(name, ds.index[0].date(), ds.index[-1].date())) "
      ],
      "execution_count": 148,
      "outputs": [
        {
          "output_type": "stream",
          "text": [
            "COVID19_US_DAILY_CDC            2020-01-22  2020-07-23\n"
          ],
          "name": "stdout"
        }
      ]
    },
    {
      "cell_type": "markdown",
      "metadata": {
        "id": "OjPgVFvP7wJX",
        "colab_type": "text"
      },
      "source": [
        "### 3 - Comparing Global Sources\n",
        "\n",
        "Below is a general function to compare the time series of certain columns across datasets:"
      ]
    },
    {
      "cell_type": "code",
      "metadata": {
        "pycharm": {
          "is_executing": false
        },
        "id": "Va0bbWjg7wJY",
        "colab_type": "code",
        "colab": {}
      },
      "source": [
        "import re\n",
        "from typing import Union\n",
        "\n",
        "def compare_time_series(df, datasets, columns: Union[str, list], grouping: str = 'countryId', suffix_identifier: float = 1):\n",
        "    columns = [columns] if isinstance(columns, str) else columns\n",
        "    suffixes = list(map(lambda ds_name: '_' + re.findall('\\_([A-Z]+)', ds_name)[-suffix_identifier], datasets))\n",
        "    df_combo = None\n",
        "\n",
        "    for ds_name in datasets:\n",
        "        ds = df[ds_name]\n",
        "        df_combo = ds if df_combo is None else df_combo\n",
        "        df_suffixes = ('', '_' + re.findall('\\_([A-Z]+)', ds_name)[-suffix_identifier])\n",
        "        df_combo = df_combo.merge(ds, on=['date', grouping], suffixes=df_suffixes)\n",
        "\n",
        "    return df_combo[[grouping] + [column + suffix for suffix in suffixes for column in columns]]"
      ],
      "execution_count": 149,
      "outputs": []
    },
    {
      "cell_type": "markdown",
      "metadata": {
        "id": "FS4RVZAY7wJa",
        "colab_type": "text"
      },
      "source": [
        "For example, if we want to compare the time series for total confirmed cases across the WHO, ECDC, and Wikipedia \n",
        "datasets globally, we can do the following:"
      ]
    },
    {
      "cell_type": "code",
      "metadata": {
        "pycharm": {
          "is_executing": false,
          "name": "#%%\n"
        },
        "id": "udAkVy057wJb",
        "colab_type": "code",
        "colab": {
          "base_uri": "https://localhost:8080/",
          "height": 208
        },
        "outputId": "6c199643-8271-4ebe-ecfb-3599452af2fb"
      },
      "source": [
        "datasets = ['COVID19_US_DAILY_CDC'] \n",
        "df_to_compare = compare_time_series(df, datasets, columns='totalConfirmed')\n",
        "\n",
        "df_to_compare.describe().style.background_gradient(cmap='Blues',axis=1).format('{:,.2f}')"
      ],
      "execution_count": 150,
      "outputs": [
        {
          "output_type": "execute_result",
          "data": {
            "text/html": [
              "<style  type=\"text/css\" >\n",
              "    #T_c6da1ee4_cde2_11ea_b7f5_0242ac1c0002row0_col0 {\n",
              "            background-color:  #f7fbff;\n",
              "            color:  #000000;\n",
              "        }    #T_c6da1ee4_cde2_11ea_b7f5_0242ac1c0002row1_col0 {\n",
              "            background-color:  #f7fbff;\n",
              "            color:  #000000;\n",
              "        }    #T_c6da1ee4_cde2_11ea_b7f5_0242ac1c0002row2_col0 {\n",
              "            background-color:  #f7fbff;\n",
              "            color:  #000000;\n",
              "        }    #T_c6da1ee4_cde2_11ea_b7f5_0242ac1c0002row3_col0 {\n",
              "            background-color:  #f7fbff;\n",
              "            color:  #000000;\n",
              "        }    #T_c6da1ee4_cde2_11ea_b7f5_0242ac1c0002row4_col0 {\n",
              "            background-color:  #f7fbff;\n",
              "            color:  #000000;\n",
              "        }    #T_c6da1ee4_cde2_11ea_b7f5_0242ac1c0002row5_col0 {\n",
              "            background-color:  #f7fbff;\n",
              "            color:  #000000;\n",
              "        }    #T_c6da1ee4_cde2_11ea_b7f5_0242ac1c0002row6_col0 {\n",
              "            background-color:  #f7fbff;\n",
              "            color:  #000000;\n",
              "        }    #T_c6da1ee4_cde2_11ea_b7f5_0242ac1c0002row7_col0 {\n",
              "            background-color:  #f7fbff;\n",
              "            color:  #000000;\n",
              "        }</style><table id=\"T_c6da1ee4_cde2_11ea_b7f5_0242ac1c0002\" ><thead>    <tr>        <th class=\"blank level0\" ></th>        <th class=\"col_heading level0 col0\" >totalConfirmed_CDC</th>    </tr></thead><tbody>\n",
              "                <tr>\n",
              "                        <th id=\"T_c6da1ee4_cde2_11ea_b7f5_0242ac1c0002level0_row0\" class=\"row_heading level0 row0\" >count</th>\n",
              "                        <td id=\"T_c6da1ee4_cde2_11ea_b7f5_0242ac1c0002row0_col0\" class=\"data row0 col0\" >184.00</td>\n",
              "            </tr>\n",
              "            <tr>\n",
              "                        <th id=\"T_c6da1ee4_cde2_11ea_b7f5_0242ac1c0002level0_row1\" class=\"row_heading level0 row1\" >mean</th>\n",
              "                        <td id=\"T_c6da1ee4_cde2_11ea_b7f5_0242ac1c0002row1_col0\" class=\"data row1 col0\" >1,122,061.35</td>\n",
              "            </tr>\n",
              "            <tr>\n",
              "                        <th id=\"T_c6da1ee4_cde2_11ea_b7f5_0242ac1c0002level0_row2\" class=\"row_heading level0 row2\" >std</th>\n",
              "                        <td id=\"T_c6da1ee4_cde2_11ea_b7f5_0242ac1c0002row2_col0\" class=\"data row2 col0\" >1,163,245.64</td>\n",
              "            </tr>\n",
              "            <tr>\n",
              "                        <th id=\"T_c6da1ee4_cde2_11ea_b7f5_0242ac1c0002level0_row3\" class=\"row_heading level0 row3\" >min</th>\n",
              "                        <td id=\"T_c6da1ee4_cde2_11ea_b7f5_0242ac1c0002row3_col0\" class=\"data row3 col0\" >1.00</td>\n",
              "            </tr>\n",
              "            <tr>\n",
              "                        <th id=\"T_c6da1ee4_cde2_11ea_b7f5_0242ac1c0002level0_row4\" class=\"row_heading level0 row4\" >25%</th>\n",
              "                        <td id=\"T_c6da1ee4_cde2_11ea_b7f5_0242ac1c0002row4_col0\" class=\"data row4 col0\" >385.25</td>\n",
              "            </tr>\n",
              "            <tr>\n",
              "                        <th id=\"T_c6da1ee4_cde2_11ea_b7f5_0242ac1c0002level0_row5\" class=\"row_heading level0 row5\" >50%</th>\n",
              "                        <td id=\"T_c6da1ee4_cde2_11ea_b7f5_0242ac1c0002row5_col0\" class=\"data row5 col0\" >847,013.00</td>\n",
              "            </tr>\n",
              "            <tr>\n",
              "                        <th id=\"T_c6da1ee4_cde2_11ea_b7f5_0242ac1c0002level0_row6\" class=\"row_heading level0 row6\" >75%</th>\n",
              "                        <td id=\"T_c6da1ee4_cde2_11ea_b7f5_0242ac1c0002row6_col0\" class=\"data row6 col0\" >1,943,222.50</td>\n",
              "            </tr>\n",
              "            <tr>\n",
              "                        <th id=\"T_c6da1ee4_cde2_11ea_b7f5_0242ac1c0002level0_row7\" class=\"row_heading level0 row7\" >max</th>\n",
              "                        <td id=\"T_c6da1ee4_cde2_11ea_b7f5_0242ac1c0002row7_col0\" class=\"data row7 col0\" >4,024,492.00</td>\n",
              "            </tr>\n",
              "    </tbody></table>"
            ],
            "text/plain": [
              "<pandas.io.formats.style.Styler at 0x7f1e32b8b860>"
            ]
          },
          "metadata": {
            "tags": []
          },
          "execution_count": 150
        }
      ]
    },
    {
      "cell_type": "markdown",
      "metadata": {
        "pycharm": {
          "name": "#%% md\n"
        },
        "id": "bLfuiuzX7wJe",
        "colab_type": "text"
      },
      "source": [
        "This shows statistical properties for each dataset for all common countries and dates. As we can see, there's some \n",
        "variation in the data sources. Let's dig in a little further and plot the relationship between the WHO and ECDC for \n",
        "a number of countries: "
      ]
    },
    {
      "cell_type": "code",
      "metadata": {
        "id": "QvWavHr87wJf",
        "colab_type": "code",
        "colab": {}
      },
      "source": [
        "import seaborn as sns\n"
      ],
      "execution_count": 151,
      "outputs": []
    },
    {
      "cell_type": "markdown",
      "metadata": {
        "pycharm": {
          "name": "#%% md\n"
        },
        "id": "bKR94zuT7wJk",
        "colab_type": "text"
      },
      "source": [
        "As we can see, there is some dispersion between sources for certain countries. For information on the various ISO\n",
        "country codes, see [this guide](https://developer.gs.com/docs/covid/guides/standards/iso-countries/).\n",
        "\n",
        "### 4 - Comparing US Sources\n",
        "\n",
        "Now let's take a closer look at the US data, adding in the CDC dataset:"
      ]
    },
    {
      "cell_type": "code",
      "metadata": {
        "pycharm": {
          "is_executing": false,
          "name": "#%%\n"
        },
        "id": "vwkE19K67wJk",
        "colab_type": "code",
        "colab": {
          "base_uri": "https://localhost:8080/",
          "height": 208
        },
        "outputId": "8f20a918-1f94-4ebb-fe45-f8932750ee8f"
      },
      "source": [
        "datasets = ['COVID19_US_DAILY_CDC'] \n",
        "df_to_compare = compare_time_series(df, datasets, columns='totalConfirmed')\n",
        "\n",
        "df_to_compare.describe().style.background_gradient(cmap='Blues',axis=1).format('{:,.2f}')"
      ],
      "execution_count": 152,
      "outputs": [
        {
          "output_type": "execute_result",
          "data": {
            "text/html": [
              "<style  type=\"text/css\" >\n",
              "    #T_ca4d9ba0_cde2_11ea_b7f5_0242ac1c0002row0_col0 {\n",
              "            background-color:  #f7fbff;\n",
              "            color:  #000000;\n",
              "        }    #T_ca4d9ba0_cde2_11ea_b7f5_0242ac1c0002row1_col0 {\n",
              "            background-color:  #f7fbff;\n",
              "            color:  #000000;\n",
              "        }    #T_ca4d9ba0_cde2_11ea_b7f5_0242ac1c0002row2_col0 {\n",
              "            background-color:  #f7fbff;\n",
              "            color:  #000000;\n",
              "        }    #T_ca4d9ba0_cde2_11ea_b7f5_0242ac1c0002row3_col0 {\n",
              "            background-color:  #f7fbff;\n",
              "            color:  #000000;\n",
              "        }    #T_ca4d9ba0_cde2_11ea_b7f5_0242ac1c0002row4_col0 {\n",
              "            background-color:  #f7fbff;\n",
              "            color:  #000000;\n",
              "        }    #T_ca4d9ba0_cde2_11ea_b7f5_0242ac1c0002row5_col0 {\n",
              "            background-color:  #f7fbff;\n",
              "            color:  #000000;\n",
              "        }    #T_ca4d9ba0_cde2_11ea_b7f5_0242ac1c0002row6_col0 {\n",
              "            background-color:  #f7fbff;\n",
              "            color:  #000000;\n",
              "        }    #T_ca4d9ba0_cde2_11ea_b7f5_0242ac1c0002row7_col0 {\n",
              "            background-color:  #f7fbff;\n",
              "            color:  #000000;\n",
              "        }</style><table id=\"T_ca4d9ba0_cde2_11ea_b7f5_0242ac1c0002\" ><thead>    <tr>        <th class=\"blank level0\" ></th>        <th class=\"col_heading level0 col0\" >totalConfirmed_CDC</th>    </tr></thead><tbody>\n",
              "                <tr>\n",
              "                        <th id=\"T_ca4d9ba0_cde2_11ea_b7f5_0242ac1c0002level0_row0\" class=\"row_heading level0 row0\" >count</th>\n",
              "                        <td id=\"T_ca4d9ba0_cde2_11ea_b7f5_0242ac1c0002row0_col0\" class=\"data row0 col0\" >184.00</td>\n",
              "            </tr>\n",
              "            <tr>\n",
              "                        <th id=\"T_ca4d9ba0_cde2_11ea_b7f5_0242ac1c0002level0_row1\" class=\"row_heading level0 row1\" >mean</th>\n",
              "                        <td id=\"T_ca4d9ba0_cde2_11ea_b7f5_0242ac1c0002row1_col0\" class=\"data row1 col0\" >1,122,061.35</td>\n",
              "            </tr>\n",
              "            <tr>\n",
              "                        <th id=\"T_ca4d9ba0_cde2_11ea_b7f5_0242ac1c0002level0_row2\" class=\"row_heading level0 row2\" >std</th>\n",
              "                        <td id=\"T_ca4d9ba0_cde2_11ea_b7f5_0242ac1c0002row2_col0\" class=\"data row2 col0\" >1,163,245.64</td>\n",
              "            </tr>\n",
              "            <tr>\n",
              "                        <th id=\"T_ca4d9ba0_cde2_11ea_b7f5_0242ac1c0002level0_row3\" class=\"row_heading level0 row3\" >min</th>\n",
              "                        <td id=\"T_ca4d9ba0_cde2_11ea_b7f5_0242ac1c0002row3_col0\" class=\"data row3 col0\" >1.00</td>\n",
              "            </tr>\n",
              "            <tr>\n",
              "                        <th id=\"T_ca4d9ba0_cde2_11ea_b7f5_0242ac1c0002level0_row4\" class=\"row_heading level0 row4\" >25%</th>\n",
              "                        <td id=\"T_ca4d9ba0_cde2_11ea_b7f5_0242ac1c0002row4_col0\" class=\"data row4 col0\" >385.25</td>\n",
              "            </tr>\n",
              "            <tr>\n",
              "                        <th id=\"T_ca4d9ba0_cde2_11ea_b7f5_0242ac1c0002level0_row5\" class=\"row_heading level0 row5\" >50%</th>\n",
              "                        <td id=\"T_ca4d9ba0_cde2_11ea_b7f5_0242ac1c0002row5_col0\" class=\"data row5 col0\" >847,013.00</td>\n",
              "            </tr>\n",
              "            <tr>\n",
              "                        <th id=\"T_ca4d9ba0_cde2_11ea_b7f5_0242ac1c0002level0_row6\" class=\"row_heading level0 row6\" >75%</th>\n",
              "                        <td id=\"T_ca4d9ba0_cde2_11ea_b7f5_0242ac1c0002row6_col0\" class=\"data row6 col0\" >1,943,222.50</td>\n",
              "            </tr>\n",
              "            <tr>\n",
              "                        <th id=\"T_ca4d9ba0_cde2_11ea_b7f5_0242ac1c0002level0_row7\" class=\"row_heading level0 row7\" >max</th>\n",
              "                        <td id=\"T_ca4d9ba0_cde2_11ea_b7f5_0242ac1c0002row7_col0\" class=\"data row7 col0\" >4,024,492.00</td>\n",
              "            </tr>\n",
              "    </tbody></table>"
            ],
            "text/plain": [
              "<pandas.io.formats.style.Styler at 0x7f1e32bba198>"
            ]
          },
          "metadata": {
            "tags": []
          },
          "execution_count": 152
        }
      ]
    },
    {
      "cell_type": "markdown",
      "metadata": {
        "id": "R38FTSrO7wJn",
        "colab_type": "text"
      },
      "source": [
        "As of 21 of May 2020, CDC had the most confirmed cases, followed by Wikipedia, and then ECDC and WHO. This is not \n",
        "overly surprising given the information collection and validation flows. Now let's examine the last few points:"
      ]
    },
    {
      "cell_type": "markdown",
      "metadata": {
        "id": "y3OsWoex7wJn",
        "colab_type": "text"
      },
      "source": [
        "Now let's compare all the series side by side:"
      ]
    },
    {
      "cell_type": "code",
      "metadata": {
        "pycharm": {
          "is_executing": false,
          "name": "#%%\n"
        },
        "id": "-EbUQUYl7wJo",
        "colab_type": "code",
        "colab": {
          "base_uri": "https://localhost:8080/",
          "height": 416
        },
        "outputId": "4faa3370-572e-4a86-fc06-70298042f850"
      },
      "source": [
        "df_to_compare.plot(figsize=(10, 6), title='US Corona Cases');"
      ],
      "execution_count": 153,
      "outputs": [
        {
          "output_type": "display_data",
          "data": {
            "image/png": "[encoded data removed]",
            "text/plain": [
              "<Figure size 720x432 with 1 Axes>"
            ]
          },
          "metadata": {
            "tags": [],
            "needs_background": "light"
          }
        }
      ]
    },
    {
      "cell_type": "code",
      "metadata": {
        "id": "BRsDhwDL7wJr",
        "colab_type": "code",
        "colab": {}
      },
      "source": [
        "import matplotlib.pyplot as plt\n"
      ],
      "execution_count": 54,
      "outputs": []
    },
    {
      "cell_type": "markdown",
      "metadata": {
        "id": "kcwoofu47wJv",
        "colab_type": "text"
      },
      "source": [
        "This chart illustrates how the ECDC and CDC map cases versus the WHO. At the start of the epidemic these sources were\n",
        "much closer, and diverged over time, with CDC leading in reporting for the US versus the ECDC and WHO. "
      ]
    },
    {
      "cell_type": "markdown",
      "metadata": {
        "id": "b6a6UbtivSYf",
        "colab_type": "text"
      },
      "source": [
        "# Deep Learning Ananlysis"
      ]
    },
    {
      "cell_type": "markdown",
      "metadata": {
        "id": "GDCuW80mva-P",
        "colab_type": "text"
      },
      "source": [
        "In this section we will examing the \"COVID19_US_DAILY_CDC\" dataset in order to try and construct a multivariate time series predictive model using Recurrent Neural Networks in Tensor Flow."
      ]
    },
    {
      "cell_type": "markdown",
      "metadata": {
        "id": "UNWmI6PbvyGL",
        "colab_type": "text"
      },
      "source": [
        "We'll start by importing the necessary packages "
      ]
    },
    {
      "cell_type": "code",
      "metadata": {
        "id": "Ag6oyOSLvv_J",
        "colab_type": "code",
        "colab": {}
      },
      "source": [
        "#Set up for the Recurral Neural Network to predict future cases in the US\n",
        "import numpy as np\n",
        "import tensorflow as tf\n",
        "from tensorflow import keras\n",
        "import pandas as pd\n",
        "import seaborn as sns\n",
        "from pylab import rcParams\n",
        "import matplotlib.pyplot as plt\n",
        "from matplotlib import rc"
      ],
      "execution_count": 154,
      "outputs": []
    },
    {
      "cell_type": "markdown",
      "metadata": {
        "id": "fTD---v4wumo",
        "colab_type": "text"
      },
      "source": [
        "Then, we will glance at the data  of the US cases over time"
      ]
    },
    {
      "cell_type": "code",
      "metadata": {
        "id": "ZvAD_O4N2fd8",
        "colab_type": "code",
        "colab": {
          "base_uri": "https://localhost:8080/",
          "height": 235
        },
        "outputId": "311f9065-8d9d-4b04-c70f-1c5b58d76e0c"
      },
      "source": [
        "country_datasets = ['COVID19_US_DAILY_CDC']\n",
        "df = get_datasets(country_datasets)\n",
        "us_dataframe = df['COVID19_US_DAILY_CDC']\n",
        "\n",
        "us_CaseNumbers = us_dataframe.loc[:,'totalConfirmed'].values #numpy array of case numbers\n",
        "\n",
        "us_dataframe.head()\n",
        "\n"
      ],
      "execution_count": 155,
      "outputs": [
        {
          "output_type": "execute_result",
          "data": {
            "text/html": [
              "<div>\n",
              "<style scoped>\n",
              "    .dataframe tbody tr th:only-of-type {\n",
              "        vertical-align: middle;\n",
              "    }\n",
              "\n",
              "    .dataframe tbody tr th {\n",
              "        vertical-align: top;\n",
              "    }\n",
              "\n",
              "    .dataframe thead th {\n",
              "        text-align: right;\n",
              "    }\n",
              "</style>\n",
              "<table border=\"1\" class=\"dataframe\">\n",
              "  <thead>\n",
              "    <tr style=\"text-align: right;\">\n",
              "      <th></th>\n",
              "      <th>countryId</th>\n",
              "      <th>totalConfirmed</th>\n",
              "      <th>totalByOnset</th>\n",
              "      <th>updateTime</th>\n",
              "    </tr>\n",
              "    <tr>\n",
              "      <th>date</th>\n",
              "      <th></th>\n",
              "      <th></th>\n",
              "      <th></th>\n",
              "      <th></th>\n",
              "    </tr>\n",
              "  </thead>\n",
              "  <tbody>\n",
              "    <tr>\n",
              "      <th>2020-01-22</th>\n",
              "      <td>US</td>\n",
              "      <td>1.0</td>\n",
              "      <td>3.0</td>\n",
              "      <td>2020-07-24 18:38:01.164</td>\n",
              "    </tr>\n",
              "    <tr>\n",
              "      <th>2020-01-23</th>\n",
              "      <td>US</td>\n",
              "      <td>1.0</td>\n",
              "      <td>1.0</td>\n",
              "      <td>2020-07-24 18:38:01.164</td>\n",
              "    </tr>\n",
              "    <tr>\n",
              "      <th>2020-01-24</th>\n",
              "      <td>US</td>\n",
              "      <td>2.0</td>\n",
              "      <td>5.0</td>\n",
              "      <td>2020-07-24 18:38:01.164</td>\n",
              "    </tr>\n",
              "    <tr>\n",
              "      <th>2020-01-25</th>\n",
              "      <td>US</td>\n",
              "      <td>2.0</td>\n",
              "      <td>5.0</td>\n",
              "      <td>2020-07-24 18:38:01.164</td>\n",
              "    </tr>\n",
              "    <tr>\n",
              "      <th>2020-01-26</th>\n",
              "      <td>US</td>\n",
              "      <td>5.0</td>\n",
              "      <td>1.0</td>\n",
              "      <td>2020-07-24 18:38:01.164</td>\n",
              "    </tr>\n",
              "  </tbody>\n",
              "</table>\n",
              "</div>"
            ],
            "text/plain": [
              "           countryId  totalConfirmed  totalByOnset              updateTime\n",
              "date                                                                      \n",
              "2020-01-22        US             1.0           3.0 2020-07-24 18:38:01.164\n",
              "2020-01-23        US             1.0           1.0 2020-07-24 18:38:01.164\n",
              "2020-01-24        US             2.0           5.0 2020-07-24 18:38:01.164\n",
              "2020-01-25        US             2.0           5.0 2020-07-24 18:38:01.164\n",
              "2020-01-26        US             5.0           1.0 2020-07-24 18:38:01.164"
            ]
          },
          "metadata": {
            "tags": []
          },
          "execution_count": 155
        }
      ]
    },
    {
      "cell_type": "markdown",
      "metadata": {
        "id": "uwF7oQreGfPE",
        "colab_type": "text"
      },
      "source": [
        "We'll then show how total confirmed cases data looks over time"
      ]
    },
    {
      "cell_type": "code",
      "metadata": {
        "id": "wHYms-RhGj3G",
        "colab_type": "code",
        "colab": {
          "base_uri": "https://localhost:8080/",
          "height": 324
        },
        "outputId": "fd658210-4d4e-4236-b69f-37907a0cb69d"
      },
      "source": [
        "#df_to_compare.plot(figsize=(10, 6), title='US Corona Cases');\n",
        "us_dataframe['totalConfirmed'].plot(subplots=True)"
      ],
      "execution_count": 156,
      "outputs": [
        {
          "output_type": "execute_result",
          "data": {
            "text/plain": [
              "array([<matplotlib.axes._subplots.AxesSubplot object at 0x7f1e238fceb8>],\n",
              "      dtype=object)"
            ]
          },
          "metadata": {
            "tags": []
          },
          "execution_count": 156
        },
        {
          "output_type": "display_data",
          "data": {
            "image/png": "[encoded data removed]",
            "text/plain": [
              "<Figure size 432x288 with 1 Axes>"
            ]
          },
          "metadata": {
            "tags": [],
            "needs_background": "light"
          }
        }
      ]
    },
    {
      "cell_type": "markdown",
      "metadata": {
        "id": "XsebroF6Gqww",
        "colab_type": "text"
      },
      "source": [
        "Now we will start the DL process in which we will then predict the cases at a particular window of time\n"
      ]
    },
    {
      "cell_type": "code",
      "metadata": {
        "id": "7BkXIqqeIbDu",
        "colab_type": "code",
        "colab": {}
      },
      "source": [
        "def univariate_data(dataset, start_index, end_index, history_size, target_size):\n",
        "  data = []\n",
        "  labels = []\n",
        "\n",
        "  start_index = start_index + history_size\n",
        "  if end_index is None:\n",
        "    end_index = len(dataset) - target_size\n",
        "\n",
        "  for i in range(start_index, end_index):\n",
        "    indices = range(i-history_size, i)\n",
        "    # Reshape data from (history_size,) to (history_size, 1)\n",
        "    data.append(np.reshape(dataset[indices], (history_size, 1)))\n",
        "    labels.append(dataset[i+target_size])\n",
        "  return np.array(data), np.array(labels)"
      ],
      "execution_count": 157,
      "outputs": []
    },
    {
      "cell_type": "markdown",
      "metadata": {
        "id": "7vMPRWsJJm6E",
        "colab_type": "text"
      },
      "source": [
        "The first 150 rows of the data will be the training dataset, and there remaining will be the validation dataset. This means there will be around 5 months worth of training data."
      ]
    },
    {
      "cell_type": "code",
      "metadata": {
        "id": "RB9RpSy8ImYS",
        "colab_type": "code",
        "colab": {}
      },
      "source": [
        "TRAIN_SPLIT = 60"
      ],
      "execution_count": 177,
      "outputs": []
    },
    {
      "cell_type": "markdown",
      "metadata": {
        "id": "jBm8pZzLJ2bS",
        "colab_type": "text"
      },
      "source": [
        "Setting seed for reproducability"
      ]
    },
    {
      "cell_type": "code",
      "metadata": {
        "id": "uZVUpBl4J4uy",
        "colab_type": "code",
        "colab": {}
      },
      "source": [
        "tf.random.set_seed(1)"
      ],
      "execution_count": 178,
      "outputs": []
    },
    {
      "cell_type": "markdown",
      "metadata": {
        "id": "CSH_raZXKCjG",
        "colab_type": "text"
      },
      "source": [
        "Standardizing the data"
      ]
    },
    {
      "cell_type": "code",
      "metadata": {
        "id": "tjxFCaqTKC7u",
        "colab_type": "code",
        "colab": {}
      },
      "source": [
        "caseNumbers = us_dataframe.loc[:,'totalConfirmed'].values #numpy array of case numbers\n",
        "caseNumbers_mean = caseNumbers[:TRAIN_SPLIT].mean()\n",
        "caseNumbers_std = caseNumbers[:TRAIN_SPLIT].std()\n",
        "caseNumbers = (caseNumbers-caseNumbers_mean)/caseNumbers_std\n"
      ],
      "execution_count": 179,
      "outputs": []
    },
    {
      "cell_type": "markdown",
      "metadata": {
        "id": "Lnke5HZ7Kvy1",
        "colab_type": "text"
      },
      "source": [
        "Now in the framework of a univariate model,the model will be given the last 5 case number readings, and needs to learn to predict the case numbers at the next time reading (next month)"
      ]
    },
    {
      "cell_type": "code",
      "metadata": {
        "id": "waDR6L9zKwbV",
        "colab_type": "code",
        "colab": {}
      },
      "source": [
        "univariate_past_history = 10\n",
        "univariate_future_target = 0\n",
        "\n",
        "x_train_uni, y_train_uni = univariate_data(caseNumbers, 0, TRAIN_SPLIT,\n",
        "                                           univariate_past_history,\n",
        "                                           univariate_future_target)\n",
        "x_val_uni, y_val_uni = univariate_data(caseNumbers, TRAIN_SPLIT, None,\n",
        "                                       univariate_past_history,\n",
        "                                       univariate_future_target)"
      ],
      "execution_count": 193,
      "outputs": []
    },
    {
      "cell_type": "markdown",
      "metadata": {
        "id": "A_c1h37LLQJk",
        "colab_type": "text"
      },
      "source": [
        "What the univariate function returns:"
      ]
    },
    {
      "cell_type": "code",
      "metadata": {
        "id": "MvQ_cB77LSOz",
        "colab_type": "code",
        "colab": {
          "base_uri": "https://localhost:8080/",
          "height": 255
        },
        "outputId": "e4270e99-1dd8-4fb6-dffc-b56a5a91e758"
      },
      "source": [
        "print ('Single window of past history')\n",
        "print (x_train_uni[0])\n",
        "print ('\\n Target case number to predict')\n",
        "print (y_train_uni[0])"
      ],
      "execution_count": 194,
      "outputs": [
        {
          "output_type": "stream",
          "text": [
            "Single window of past history\n",
            "[[-0.34408476]\n",
            " [-0.34408476]\n",
            " [-0.34386503]\n",
            " [-0.34386503]\n",
            " [-0.34320583]\n",
            " [-0.34320583]\n",
            " [-0.34320583]\n",
            " [-0.34320583]\n",
            " [-0.34320583]\n",
            " [-0.34276637]]\n",
            "\n",
            " Target case number to predict\n",
            "-0.34254663963956195\n"
          ],
          "name": "stdout"
        }
      ]
    },
    {
      "cell_type": "markdown",
      "metadata": {
        "id": "s-Fyu3PkL_K_",
        "colab_type": "text"
      },
      "source": [
        "Now that the data has been created, let's take a look at a single example. The information given to the network is given in blue, and it must predict the value at the red cross"
      ]
    },
    {
      "cell_type": "code",
      "metadata": {
        "id": "zuX6emU4MDYp",
        "colab_type": "code",
        "colab": {}
      },
      "source": [
        "def create_time_steps(length):\n",
        "  return list(range(-length, 0))"
      ],
      "execution_count": 195,
      "outputs": []
    },
    {
      "cell_type": "code",
      "metadata": {
        "id": "BmCu-uOZMESB",
        "colab_type": "code",
        "colab": {}
      },
      "source": [
        "def show_plot(plot_data, delta, title):\n",
        "  labels = ['History', 'True Future', 'Model Prediction']\n",
        "  marker = ['.-', 'rx', 'go']\n",
        "  time_steps = create_time_steps(plot_data[0].shape[0])\n",
        "  if delta:\n",
        "    future = delta\n",
        "  else:\n",
        "    future = 0\n",
        "\n",
        "  plt.title(title)\n",
        "  for i, x in enumerate(plot_data):\n",
        "    if i:\n",
        "      plt.plot(future, plot_data[i], marker[i], markersize=10,\n",
        "               label=labels[i])\n",
        "    else:\n",
        "      plt.plot(time_steps, plot_data[i].flatten(), marker[i], label=labels[i])\n",
        "  plt.legend()\n",
        "  plt.xlim([time_steps[0], (future+5)*2])\n",
        "  plt.xlabel('Time-Step')\n",
        "  return plt"
      ],
      "execution_count": 196,
      "outputs": []
    },
    {
      "cell_type": "code",
      "metadata": {
        "id": "iZyh4cVjMLTu",
        "colab_type": "code",
        "colab": {
          "base_uri": "https://localhost:8080/",
          "height": 312
        },
        "outputId": "90fadc71-99d2-49ff-8315-27374d90b6c7"
      },
      "source": [
        "show_plot([x_train_uni[0], y_train_uni[0]], 0, 'Sample Example')"
      ],
      "execution_count": 197,
      "outputs": [
        {
          "output_type": "execute_result",
          "data": {
            "text/plain": [
              "<module 'matplotlib.pyplot' from '/usr/local/lib/python3.6/dist-packages/matplotlib/pyplot.py'>"
            ]
          },
          "metadata": {
            "tags": []
          },
          "execution_count": 197
        },
        {
          "output_type": "display_data",
          "data": {
            "image/png": "[encoded data removed]",
            "text/plain": [
              "<Figure size 432x288 with 1 Axes>"
            ]
          },
          "metadata": {
            "tags": [],
            "needs_background": "light"
          }
        }
      ]
    },
    {
      "cell_type": "markdown",
      "metadata": {
        "id": "DR2N7DCqNSNP",
        "colab_type": "text"
      },
      "source": [
        "Before proceeding to train a model, let's first set a simple baseline. Given an input point, the baseline method looks at all the history and predicts the next point to be the average of the last 5 observations."
      ]
    },
    {
      "cell_type": "code",
      "metadata": {
        "id": "DQydsFJRNYgW",
        "colab_type": "code",
        "colab": {}
      },
      "source": [
        "def baseline(history):\n",
        "  return np.mean(history)"
      ],
      "execution_count": 198,
      "outputs": []
    },
    {
      "cell_type": "code",
      "metadata": {
        "id": "jz_RQuXoNeeg",
        "colab_type": "code",
        "colab": {
          "base_uri": "https://localhost:8080/",
          "height": 312
        },
        "outputId": "01f722b6-6937-4319-fa4a-ef82842e974f"
      },
      "source": [
        "show_plot([x_train_uni[0], y_train_uni[0], baseline(x_train_uni[0])], 0,\n",
        "           'Baseline Prediction Example')"
      ],
      "execution_count": 199,
      "outputs": [
        {
          "output_type": "execute_result",
          "data": {
            "text/plain": [
              "<module 'matplotlib.pyplot' from '/usr/local/lib/python3.6/dist-packages/matplotlib/pyplot.py'>"
            ]
          },
          "metadata": {
            "tags": []
          },
          "execution_count": 199
        },
        {
          "output_type": "display_data",
          "data": {
            "image/png": "[encoded data removed]",
            "text/plain": [
              "<Figure size 432x288 with 1 Axes>"
            ]
          },
          "metadata": {
            "tags": [],
            "needs_background": "light"
          }
        }
      ]
    },
    {
      "cell_type": "markdown",
      "metadata": {
        "id": "sK5onYu_NkT2",
        "colab_type": "text"
      },
      "source": [
        "As you can see the above diagram is clearly wrong why it is necessary to train the model, our aim is to now beat the baseline and improve upon our model using RNNs"
      ]
    },
    {
      "cell_type": "markdown",
      "metadata": {
        "id": "_oN6d2mpNzVH",
        "colab_type": "text"
      },
      "source": [
        "# Utilizing the Recurrent Neural Network"
      ]
    },
    {
      "cell_type": "markdown",
      "metadata": {
        "id": "xwjVomrbN5Uc",
        "colab_type": "text"
      },
      "source": [
        "A Recurrent Neural Network (RNN) is a type of neural network well-suited to time series data. RNNs process a time series step-by-step, maintaining an internal state summarizing the information they've seen so far."
      ]
    },
    {
      "cell_type": "code",
      "metadata": {
        "id": "swmM7WUdOOFJ",
        "colab_type": "code",
        "colab": {}
      },
      "source": [
        "BATCH_SIZE = 5\n",
        "BUFFER_SIZE = 60\n",
        "train_univariate = tf.data.Dataset.from_tensor_slices((x_train_uni, y_train_uni))\n",
        "train_univariate = train_univariate.cache().shuffle(BUFFER_SIZE).batch(BATCH_SIZE).repeat()\n",
        "\n",
        "val_univariate = tf.data.Dataset.from_tensor_slices((x_val_uni, y_val_uni))\n",
        "val_univariate = val_univariate.batch(BATCH_SIZE).repeat()"
      ],
      "execution_count": 200,
      "outputs": []
    },
    {
      "cell_type": "markdown",
      "metadata": {
        "id": "ihLAs-HwOg38",
        "colab_type": "text"
      },
      "source": [
        "We will then use the LSTM model which is a NN architecture that uses feedback loops which enables us to better predict continuous time based data"
      ]
    },
    {
      "cell_type": "code",
      "metadata": {
        "id": "rUg6jIE5Oh-R",
        "colab_type": "code",
        "colab": {}
      },
      "source": [
        "simple_lstm_model = tf.keras.models.Sequential([\n",
        "    tf.keras.layers.LSTM(8, input_shape=x_train_uni.shape[-2:]),\n",
        "    tf.keras.layers.Dense(1)\n",
        "])\n",
        "\n",
        "simple_lstm_model.compile(optimizer='adam', loss='mae')"
      ],
      "execution_count": 201,
      "outputs": []
    },
    {
      "cell_type": "markdown",
      "metadata": {
        "id": "pmQDv4pkOhOe",
        "colab_type": "text"
      },
      "source": [
        ""
      ]
    },
    {
      "cell_type": "code",
      "metadata": {
        "id": "pPpKzXpsPNf9",
        "colab_type": "code",
        "colab": {
          "base_uri": "https://localhost:8080/",
          "height": 714
        },
        "outputId": "41d93188-1243-43fa-8f40-3ac1803d04fd"
      },
      "source": [
        "EVALUATION_INTERVAL = 50\n",
        "EPOCHS = 20\n",
        "\n",
        "simple_lstm_model.fit(train_univariate, epochs=EPOCHS,\n",
        "                      steps_per_epoch=EVALUATION_INTERVAL,\n",
        "                      validation_data=val_univariate, validation_steps= 20)"
      ],
      "execution_count": 209,
      "outputs": [
        {
          "output_type": "stream",
          "text": [
            "Epoch 1/20\n",
            "50/50 [==============================] - 0s 6ms/step - loss: 0.0210 - val_loss: 337.5996\n",
            "Epoch 2/20\n",
            "50/50 [==============================] - 0s 6ms/step - loss: 0.0207 - val_loss: 337.6000\n",
            "Epoch 3/20\n",
            "50/50 [==============================] - 0s 6ms/step - loss: 0.0210 - val_loss: 337.5976\n",
            "Epoch 4/20\n",
            "50/50 [==============================] - 0s 6ms/step - loss: 0.0212 - val_loss: 337.5831\n",
            "Epoch 5/20\n",
            "50/50 [==============================] - 0s 6ms/step - loss: 0.0207 - val_loss: 337.5577\n",
            "Epoch 6/20\n",
            "50/50 [==============================] - 0s 6ms/step - loss: 0.0213 - val_loss: 337.6076\n",
            "Epoch 7/20\n",
            "50/50 [==============================] - 0s 6ms/step - loss: 0.0204 - val_loss: 337.5512\n",
            "Epoch 8/20\n",
            "50/50 [==============================] - 0s 6ms/step - loss: 0.0209 - val_loss: 337.5387\n",
            "Epoch 9/20\n",
            "50/50 [==============================] - 0s 6ms/step - loss: 0.0204 - val_loss: 337.6074\n",
            "Epoch 10/20\n",
            "50/50 [==============================] - 0s 5ms/step - loss: 0.0217 - val_loss: 337.6011\n",
            "Epoch 11/20\n",
            "50/50 [==============================] - 0s 6ms/step - loss: 0.0216 - val_loss: 337.5930\n",
            "Epoch 12/20\n",
            "50/50 [==============================] - 0s 6ms/step - loss: 0.0210 - val_loss: 337.6027\n",
            "Epoch 13/20\n",
            "50/50 [==============================] - 0s 6ms/step - loss: 0.0206 - val_loss: 337.6149\n",
            "Epoch 14/20\n",
            "50/50 [==============================] - 0s 6ms/step - loss: 0.0204 - val_loss: 337.6122\n",
            "Epoch 15/20\n",
            "50/50 [==============================] - 0s 6ms/step - loss: 0.0208 - val_loss: 337.6010\n",
            "Epoch 16/20\n",
            "50/50 [==============================] - 0s 6ms/step - loss: 0.0203 - val_loss: 337.6112\n",
            "Epoch 17/20\n",
            "50/50 [==============================] - 0s 6ms/step - loss: 0.0205 - val_loss: 337.6168\n",
            "Epoch 18/20\n",
            "50/50 [==============================] - 0s 6ms/step - loss: 0.0210 - val_loss: 337.4725\n",
            "Epoch 19/20\n",
            "50/50 [==============================] - 0s 7ms/step - loss: 0.0214 - val_loss: 337.6115\n",
            "Epoch 20/20\n",
            "50/50 [==============================] - 0s 6ms/step - loss: 0.0203 - val_loss: 337.6257\n"
          ],
          "name": "stdout"
        },
        {
          "output_type": "execute_result",
          "data": {
            "text/plain": [
              "<tensorflow.python.keras.callbacks.History at 0x7f1e251a6eb8>"
            ]
          },
          "metadata": {
            "tags": []
          },
          "execution_count": 209
        }
      ]
    },
    {
      "cell_type": "markdown",
      "metadata": {
        "id": "O02yVAN5PofS",
        "colab_type": "text"
      },
      "source": [
        "Now that the model is trained lets attempt to make a prediction"
      ]
    },
    {
      "cell_type": "code",
      "metadata": {
        "id": "Eqt2QCAYPiEX",
        "colab_type": "code",
        "colab": {
          "base_uri": "https://localhost:8080/",
          "height": 851
        },
        "outputId": "47713a9b-7437-4c12-aafc-5f6b7fe7cd99"
      },
      "source": [
        "for x, y in val_univariate.take(3):\n",
        "  plot = show_plot([x[0].numpy(), y[0].numpy(),\n",
        "                    simple_lstm_model.predict(x)[0]], 0, 'Simple LSTM model')\n",
        "  plot.show()"
      ],
      "execution_count": 210,
      "outputs": [
        {
          "output_type": "display_data",
          "data": {
            "image/png": "[encoded data removed]",
            "text/plain": [
              "<Figure size 432x288 with 1 Axes>"
            ]
          },
          "metadata": {
            "tags": [],
            "needs_background": "light"
          }
        },
        {
          "output_type": "display_data",
          "data": {
            "image/png": "[encoded data removed]",
            "text/plain": [
              "<Figure size 432x288 with 1 Axes>"
            ]
          },
          "metadata": {
            "tags": [],
            "needs_background": "light"
          }
        },
        {
          "output_type": "display_data",
          "data": {
            "image/png": "[encoded data removed]",
            "text/plain": [
              "<Figure size 432x288 with 1 Axes>"
            ]
          },
          "metadata": {
            "tags": [],
            "needs_background": "light"
          }
        }
      ]
    },
    {
      "cell_type": "markdown",
      "metadata": {
        "id": "n9euadw47wJw",
        "colab_type": "text"
      },
      "source": [
        "### 5 - Comparing subregions, combining with mobility data"
      ]
    },
    {
      "cell_type": "markdown",
      "metadata": {
        "id": "o0cv44UD7wJw",
        "colab_type": "text"
      },
      "source": [
        "Finally, we illustrate how to compare datasets for specific countries (in this case, Italy) at different level of granularity (region, province, etc.) and how to ccombine epidemic data with mobility data from Google.\n",
        "\n",
        "As before, we fetch data for Italy, at three levels of granularity."
      ]
    },
    {
      "cell_type": "code",
      "metadata": {
        "id": "gkJxK6ah7wJx",
        "colab_type": "code",
        "colab": {
          "base_uri": "https://localhost:8080/",
          "height": 88
        },
        "outputId": "c58ee1bd-1daa-44f8-a493-a37b09af8ed4"
      },
      "source": [
        "datasets = ['COVID19_ITALY_DAILY_DPC', 'COVID19_REGION_DAILY_DPC', 'COVID19_PROVINCE_DAILY_DPC'] \n",
        "df = get_datasets(datasets)"
      ],
      "execution_count": 20,
      "outputs": [
        {
          "output_type": "stream",
          "text": [
            "Failed to obtain COVID19_ITALY_DAILY_DPC with {\"statusCode\":403,\"reasonPhrase\":\"Forbidden\",\"title\":\"Error\",\"messages\":[\"Not authorized to query resource: DataSet IDs COVID19_ITALY_DAILY_DPC\",\"Request: 1cf8c8d8-6226076\"]}\n",
            "Failed to obtain COVID19_REGION_DAILY_DPC with {\"statusCode\":403,\"reasonPhrase\":\"Forbidden\",\"title\":\"Error\",\"messages\":[\"Not authorized to query resource: DataSet IDs COVID19_REGION_DAILY_DPC\",\"Request: 9f276e96-6298122\"]}\n",
            "Failed to obtain COVID19_PROVINCE_DAILY_DPC with {\"statusCode\":403,\"reasonPhrase\":\"Forbidden\",\"title\":\"Error\",\"messages\":[\"Not authorized to query resource: DataSet IDs COVID19_PROVINCE_DAILY_DPC\",\"Request: 8b32e3af-6298698\"]}\n"
          ],
          "name": "stdout"
        }
      ]
    },
    {
      "cell_type": "code",
      "metadata": {
        "id": "cQ7EMBY_7wJ0",
        "colab_type": "code",
        "colab": {}
      },
      "source": [
        "df_to_compare = compare_time_series(df, datasets, columns='totalConfirmed', suffix_identifier=3)\n",
        "\n",
        "df_to_compare.describe().style.background_gradient(cmap='Blues',axis=1).format('{:,.2f}')"
      ],
      "execution_count": null,
      "outputs": []
    },
    {
      "cell_type": "markdown",
      "metadata": {
        "id": "kxBXWuYX7wJ2",
        "colab_type": "text"
      },
      "source": [
        "We write a function to compare the data across different geographic subdivisions."
      ]
    },
    {
      "cell_type": "code",
      "metadata": {
        "id": "rbtWcRA_7wJ2",
        "colab_type": "code",
        "colab": {}
      },
      "source": [
        "from functools import reduce\n",
        "import pandas as pd\n",
        "\n",
        "def compare_totals_across_breakdowns(df, data1, data2, column_to_check):\n",
        "    \n",
        "    # pick the common indices between the data being compared\n",
        "    common_idx_province = reduce(lambda x, y:  x & y, \n",
        "                            df[data1[0]].groupby(data1[1]).apply(lambda x: x.index).tolist())\n",
        "    common_idx_region = reduce(lambda x, y:  x & y, \n",
        "                            df[data2[0]].groupby(data2[1]).apply(lambda x: x.index).tolist())\n",
        "    idx = common_idx_province & common_idx_region\n",
        "    \n",
        "    # calculate the difference, and rename column\n",
        "    diff = df[data1[0]].groupby(data1[1]).apply(lambda x : x.loc[idx][column_to_check]).T.apply(sum,axis=1) -\\\n",
        "           df[data2[0]].groupby(data2[1]).apply(lambda x : x.loc[idx][column_to_check]).T.apply(sum,axis=1)\n",
        "    diff = pd.DataFrame(diff).rename(columns={0:f'{data1[0]}-{data2[0]}'})\n",
        "    return diff\n",
        "\n",
        "diff1 = compare_totals_across_breakdowns(df, ('COVID19_ITALY_DAILY_DPC','countryId'),\n",
        "                                         ('COVID19_REGION_DAILY_DPC','subdivisionId'),'totalConfirmed')\n",
        "diff2 = compare_totals_across_breakdowns(df, ('COVID19_REGION_DAILY_DPC','subdivisionId'),\n",
        "                                        ('COVID19_PROVINCE_DAILY_DPC','administrativeRegion'),'totalConfirmed')"
      ],
      "execution_count": null,
      "outputs": []
    },
    {
      "cell_type": "markdown",
      "metadata": {
        "id": "diQxhKmg7wJ5",
        "colab_type": "text"
      },
      "source": [
        "We plot the discrepancies below..."
      ]
    },
    {
      "cell_type": "code",
      "metadata": {
        "id": "Jn2_Q2Y07wJ5",
        "colab_type": "code",
        "colab": {}
      },
      "source": [
        "to_plot = diff1.join(diff2)\n",
        "\n",
        "sns.lmplot(x=\"COVID19_ITALY_DAILY_DPC-COVID19_REGION_DAILY_DPC\", y=\"COVID19_REGION_DAILY_DPC-COVID19_PROVINCE_DAILY_DPC\",\n",
        "          data=to_plot);"
      ],
      "execution_count": null,
      "outputs": []
    },
    {
      "cell_type": "markdown",
      "metadata": {
        "id": "9WIH_a8r7wJ8",
        "colab_type": "text"
      },
      "source": [
        "... and interestingly, this indicates there is no discrepancy at all when we compare country-level aggregate data with region-level aggregate data, but we do see discrepancies when we compate province-level with region-level data."
      ]
    },
    {
      "cell_type": "markdown",
      "metadata": {
        "id": "P3KsjY157wJ8",
        "colab_type": "text"
      },
      "source": [
        "Finally, we illustrate how to join region-level data from Italy with mobility data from Google, which allows us to check, for example, how the increase in cases of COVID-19 affected mobility patterns in the population. "
      ]
    },
    {
      "cell_type": "code",
      "metadata": {
        "id": "07L2hIrz7wJ9",
        "colab_type": "code",
        "colab": {}
      },
      "source": [
        "from datetime import datetime\n",
        "\n",
        "df_mob = Dataset('COVID19_SUBDIVISION_DAILY_GOOGLE').get_data(start_date=datetime(2020,2,1).date(), countryId='IT')"
      ],
      "execution_count": null,
      "outputs": []
    },
    {
      "cell_type": "code",
      "metadata": {
        "id": "ODg6N-tv7wJ_",
        "colab_type": "code",
        "colab": {}
      },
      "source": [
        "df_mob.head(2)"
      ],
      "execution_count": null,
      "outputs": []
    },
    {
      "cell_type": "markdown",
      "metadata": {
        "id": "2LaMMOy17wKB",
        "colab_type": "text"
      },
      "source": [
        "We now join mobility data with region-level data in Italy, for the subdivision of Liguria."
      ]
    },
    {
      "cell_type": "code",
      "metadata": {
        "id": "obRbXbzC7wKC",
        "colab_type": "code",
        "colab": {}
      },
      "source": [
        "def join_dfs(subdivision, mobility, column_to_compare):\n",
        "    df_red = df['COVID19_REGION_DAILY_DPC'][df['COVID19_REGION_DAILY_DPC']['subdivisionId'] == subdivision]\n",
        "    subdivision_name = df_red['subdivisionName'].unique()[0]\n",
        "    df1 = df_red[[column_to_compare]]\n",
        "    df2 = df_mob[df_mob.subdivisionId.isin([subdivision]) & df_mob.group.isin([mobility])]\n",
        "    df_joint = df1.merge(df2, on='date')\n",
        "    return df_joint, mobility, subdivision_name\n",
        "\n",
        "df_joint, mobility, subdivision_name = join_dfs('IT-42', 'retailRecreation', 'newConfirmed')"
      ],
      "execution_count": null,
      "outputs": []
    },
    {
      "cell_type": "markdown",
      "metadata": {
        "id": "b5QxfGcR7wKD",
        "colab_type": "text"
      },
      "source": [
        "Finally, we plot a chart comparing mobility data with data on the growth of the epidemic."
      ]
    },
    {
      "cell_type": "code",
      "metadata": {
        "id": "Nt52DhZN7wKE",
        "colab_type": "code",
        "colab": {}
      },
      "source": [
        "df_joint['Change in Mobility'] = df_joint['value'].diff()\n",
        "df_joint[['newConfirmed','value']].rename(columns={'newConfirmed':'New Confirmed Cases',\n",
        "                                                   'value':f'Change in {mobility} mobility'}).plot(figsize=(10,7,), grid=True,\n",
        "            title=f'Comparison of new confirmed cases and mobility in {subdivision_name}');"
      ],
      "execution_count": null,
      "outputs": []
    },
    {
      "cell_type": "markdown",
      "metadata": {
        "id": "ehIP02s87wKG",
        "colab_type": "text"
      },
      "source": [
        "We can observe a dramatic drop in moblity as the rate of new cases began to increase, a pattern that persisted during the peak of the epidemic in the region of Liguria.\n",
        "\n",
        "Please reach out to `covid-data@gs.com` with any questions."
      ]
    },
    {
      "cell_type": "markdown",
      "metadata": {
        "id": "lFXrt5ex7wKG",
        "colab_type": "text"
      },
      "source": [
        "### Disclaimer\n",
        "This website may contain links to websites and the content of third parties (\"Third Party Content\"). We do not monitor, \n",
        "review or update, and do not have any control over, any Third Party Content or third party websites. We make no \n",
        "representation, warranty or guarantee as to the accuracy, completeness, timeliness or reliability of any \n",
        "Third Party Content and are not responsible for any loss or damage of any sort resulting from the use of, or for any \n",
        "failure of, products or services provided at or from a third party resource. If you use these links and the \n",
        "Third Party Content, you acknowledge that you are doing so entirely at your own risk."
      ]
    }
  ]
}